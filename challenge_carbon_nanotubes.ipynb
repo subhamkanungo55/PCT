{
 "cells": [
  {
   "cell_type": "code",
   "execution_count": 1,
   "metadata": {},
   "outputs": [],
   "source": [
    "import csv\n",
    "import logging as lg\n",
    "import os.path\n",
    "import mysql.connector as connection\n",
    "from mysql.connector import Error\n",
    "import getpass"
   ]
  },
  {
   "cell_type": "code",
   "execution_count": 2,
   "metadata": {},
   "outputs": [],
   "source": [
    "lg.basicConfig(filename = 'carbon.log', filemode = 'a', format = '%(acstime)s-%(levelname)s-%(message)s', datefmt='%Y-%m-%d %H:%M:%S')"
   ]
  },
  {
   "cell_type": "markdown",
   "metadata": {},
   "source": [
    "# Connecting TO DB"
   ]
  },
  {
   "cell_type": "code",
   "execution_count": 3,
   "metadata": {},
   "outputs": [],
   "source": [
    "def connect_db(host,user,password,db_name):\n",
    "    try:\n",
    "        conn = connection.connect(host=host , user=user, password=password)\n",
    "        if conn.is_connected():\n",
    "            cursor = conn.cursor()\n",
    "            cursor.execute(\" CREATE DATABASE \"+db_name)\n",
    "            lg.info('Database is created by {}'.format(user))\n",
    "            lg.info('Database is created {}'.format(db_name))\n",
    "    except Exception as e:\n",
    "        lg.info(\"Error in connecting to database\", e)\n",
    "    finally:\n",
    "        conn.close()"
   ]
  },
  {
   "cell_type": "code",
   "execution_count": 4,
   "metadata": {},
   "outputs": [
    {
     "name": "stdout",
     "output_type": "stream",
     "text": [
      "Enter host name: localhost\n",
      "Enter user name: root\n",
      "Password : ········\n",
      "Enter your DB name: carbon_tubes1\n"
     ]
    }
   ],
   "source": [
    "host = input(\"Enter host name: \")\n",
    "user = input(\"Enter user name: \")\n",
    "password = getpass.getpass(\"Password : \")\n",
    "db_name = input(\"Enter your DB name: \")"
   ]
  },
  {
   "cell_type": "code",
   "execution_count": 5,
   "metadata": {},
   "outputs": [],
   "source": [
    "connect_db(host,user,password,db_name)"
   ]
  },
  {
   "cell_type": "code",
   "execution_count": 6,
   "metadata": {},
   "outputs": [],
   "source": [
    "def dump_data(fname):\n",
    "    try:\n",
    "        conn = connection.connect(host=host , user=user, password=password) \n",
    "        if conn.is_connected():\n",
    "            cursor = conn.cursor()\n",
    "            print('creating table...')\n",
    "            cursor.execute('create table tubes_data(Chiral_indice_n INT1[10], Chiral_indice_m INT[10], Initial_atomic_coordinate_u INT[10], Initial_atomic_coordinate_v INT[10], Initial_atomic_coordinate_w INT[10], Calculated_atomic_coordinates_u INT[10], Calculated_atomic_coordinates_v INT[10], Calculated_atomic_coordinates_w INT[10])')\n",
    "            print('Table created...')\n",
    "            \n",
    "            count = 0\n",
    "            with open(fname,'r') as file:\n",
    "                next(file)\n",
    "                my_file = csv.reader(file, delimiter = ';' )\n",
    "                for i in my_file:\n",
    "                    qr1= 'insert into tubes_data values (%s,%s,%s,%s,%s,%s,%s,%s)'\n",
    "                    cursor.execute(qr1,list(i))\n",
    "                    lg.info(i)\n",
    "                    count = count +1\n",
    "                    print(count)\n",
    "                    conn.commit()\n",
    "            lg.info('Total {} number of row read into file'.format(count))\n",
    "    except Exception as e:\n",
    "            lg.info(e)\n",
    "    finally:\n",
    "            conn.close()"
   ]
  },
  {
   "cell_type": "code",
   "execution_count": 7,
   "metadata": {},
   "outputs": [
    {
     "name": "stdout",
     "output_type": "stream",
     "text": [
      "Enter file namecarbon_tubes_new.csv\n"
     ]
    }
   ],
   "source": [
    "fname= input(\"Enter file name\")"
   ]
  },
  {
   "cell_type": "code",
   "execution_count": 8,
   "metadata": {},
   "outputs": [
    {
     "name": "stdout",
     "output_type": "stream",
     "text": [
      "creating table...\n"
     ]
    }
   ],
   "source": [
    "dump_data(fname)"
   ]
  },
  {
   "cell_type": "code",
   "execution_count": null,
   "metadata": {},
   "outputs": [],
   "source": []
  },
  {
   "cell_type": "code",
   "execution_count": 12,
   "metadata": {},
   "outputs": [],
   "source": []
  },
  {
   "cell_type": "code",
   "execution_count": null,
   "metadata": {},
   "outputs": [],
   "source": []
  },
  {
   "cell_type": "code",
   "execution_count": null,
   "metadata": {},
   "outputs": [],
   "source": []
  }
 ],
 "metadata": {
  "kernelspec": {
   "display_name": "Python 3",
   "language": "python",
   "name": "python3"
  },
  "language_info": {
   "codemirror_mode": {
    "name": "ipython",
    "version": 3
   },
   "file_extension": ".py",
   "mimetype": "text/x-python",
   "name": "python",
   "nbconvert_exporter": "python",
   "pygments_lexer": "ipython3",
   "version": "3.8.3"
  }
 },
 "nbformat": 4,
 "nbformat_minor": 4
}
